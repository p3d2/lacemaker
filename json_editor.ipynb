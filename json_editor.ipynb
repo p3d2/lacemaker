{
 "cells": [
  {
   "cell_type": "code",
   "execution_count": 1,
   "id": "695eb098-61b1-4e78-84aa-d700057e944d",
   "metadata": {},
   "outputs": [
    {
     "name": "stderr",
     "output_type": "stream",
     "text": [
      "2024-07-08 11:05:36.478 \n",
      "  \u001b[33m\u001b[1mWarning:\u001b[0m to view this Streamlit app on a browser, run it with the following\n",
      "  command:\n",
      "\n",
      "    streamlit run /appl/scibuilder-mamba/aalto-rhel9/prod/software/scicomp-python-env/2024-01/f56a564/lib/python3.11/site-packages/ipykernel_launcher.py [ARGUMENTS]\n"
     ]
    }
   ],
   "source": [
    "import streamlit as st\n",
    "import json\n",
    "import matplotlib.pyplot as plt\n",
    "\n",
    "# Function to plot lace based on nodes and paths\n",
    "def plot_lace(data):\n",
    "    plt.figure(figsize=(10, 6))\n",
    "    nodes = data['nodes']\n",
    "    paths = data['paths']\n",
    "    for path in paths:\n",
    "        x = [nodes[str(node)][0] for node in path['path']]\n",
    "        y = [nodes[str(node)][1] for node in path['path']]\n",
    "        plt.plot(x, y, marker='o')\n",
    "    plt.grid(True)\n",
    "    plt.show()\n",
    "\n",
    "# Streamlit UI components\n",
    "st.title('Lace Pattern Editor')\n",
    "\n",
    "# Upload JSON file\n",
    "uploaded_file = st.file_uploader(\"Choose a JSON file\")\n",
    "if uploaded_file is not None:\n",
    "    data = json.load(uploaded_file)\n",
    "    # Display JSON editor\n",
    "    json_editor = st.text_area(\"Edit JSON:\", value=json.dumps(data, indent=4), height=300)\n",
    "    data = json.loads(json_editor)\n",
    "    # Plotting\n",
    "    st.write(\"Lace Pattern Visualization:\")\n",
    "    fig, ax = plt.subplots()\n",
    "    plot_lace(data)\n",
    "    st.pyplot(fig)\n"
   ]
  },
  {
   "cell_type": "code",
   "execution_count": null,
   "id": "8a674d2b-9979-4852-9360-6c8770cd8287",
   "metadata": {},
   "outputs": [],
   "source": [
    "import subprocess\n",
    "\n",
    "# Replace 'app.py' with the path to your Streamlit script if it's not in the same directory\n",
    "subprocess.run([\"streamlit\", \"run\", \"/appl/scibuilder-mamba/aalto-rhel9/prod/software/scicomp-python-env/2024-01/f56a564/lib/python3.11/site-packages/ipykernel_launcher.py\"])"
   ]
  },
  {
   "cell_type": "code",
   "execution_count": null,
   "id": "7280f833-cff8-4c04-8da2-1118751c5abd",
   "metadata": {},
   "outputs": [],
   "source": []
  }
 ],
 "metadata": {
  "kernelspec": {
   "display_name": "Python generic (scicomp-python-env/2024-01)",
   "language": "python",
   "name": "python3"
  },
  "language_info": {
   "codemirror_mode": {
    "name": "ipython",
    "version": 3
   },
   "file_extension": ".py",
   "mimetype": "text/x-python",
   "name": "python",
   "nbconvert_exporter": "python",
   "pygments_lexer": "ipython3",
   "version": "3.11.9"
  }
 },
 "nbformat": 4,
 "nbformat_minor": 5
}
